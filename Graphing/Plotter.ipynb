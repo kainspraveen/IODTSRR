{
 "cells": [
  {
   "cell_type": "code",
   "execution_count": 144,
   "metadata": {},
   "outputs": [],
   "source": [
    "import pandas as pd\n",
    "import seaborn as sns\n",
    "import os\n",
    "import matplotlib.pyplot as plt"
   ]
  },
  {
   "cell_type": "code",
   "execution_count": 145,
   "metadata": {},
   "outputs": [
    {
     "data": {
      "text/plain": [
       "['750_dec_nz.csv',\n",
       " '750_dec_z.csv',\n",
       " '750_inc_nz.csv',\n",
       " '750_inc_z.csv',\n",
       " '750_rand_nz.csv',\n",
       " '750_rand_z.csv']"
      ]
     },
     "execution_count": 145,
     "metadata": {},
     "output_type": "execute_result"
    }
   ],
   "source": [
    "files = [f for f in os.listdir('.') if os.path.isfile(f)] \n",
    "files.remove('Plotter.ipynb')\n",
    "files"
   ]
  },
  {
   "cell_type": "code",
   "execution_count": 146,
   "metadata": {},
   "outputs": [
    {
     "data": {
      "text/plain": [
       "['df_750_dec_nz',\n",
       " 'df_750_dec_z',\n",
       " 'df_750_inc_nz',\n",
       " 'df_750_inc_z',\n",
       " 'df_750_rand_nz',\n",
       " 'df_750_rand_z']"
      ]
     },
     "execution_count": 146,
     "metadata": {},
     "output_type": "execute_result"
    }
   ],
   "source": [
    "#preparing df names\n",
    "df_names=[]\n",
    "for file in files:\n",
    "    df_names.append('df_'+file.split('.')[0])\n",
    "df_names"
   ]
  },
  {
   "cell_type": "code",
   "execution_count": 147,
   "metadata": {},
   "outputs": [],
   "source": [
    "dfs={}\n",
    "for i in range(len(files)):\n",
    "    dfs[df_names[i]]=pd.read_csv(files[i])\n"
   ]
  },
  {
   "cell_type": "code",
   "execution_count": 148,
   "metadata": {},
   "outputs": [
    {
     "name": "stdout",
     "output_type": "stream",
     "text": [
      "df_750_dec_nz\n",
      "   no_of_processes  avg_wait_time  avg_turnaround_time  context_switches\n",
      "0              749            0.0          2997.000000                 1\n",
      "1              749         1496.5          4491.500000                 2\n",
      "2              749         3992.0          6985.666667                 4\n",
      "3              749         6361.5          9353.500000                 6\n",
      "4              749         6588.0          9578.200000                 6\n",
      "df_750_dec_z\n",
      "   no_of_processes  avg_wait_time  avg_turnaround_time  context_switches\n",
      "0              749            0.0          2998.000000                 1\n",
      "1              749         2248.0          5244.500000                 4\n",
      "2              749         1999.0          4994.333333                 3\n",
      "3              749         2997.5          5991.750000                 5\n",
      "4              749         3597.0          6590.400000                 6\n",
      "df_750_inc_nz\n",
      "   no_of_processes  avg_wait_time  avg_turnaround_time  context_switches\n",
      "0              749       0.000000             3.000000                 1\n",
      "1              749       1.000000             6.000000                 3\n",
      "2              749       1.666667             8.333333                 3\n",
      "3              749       2.000000             9.750000                 4\n",
      "4              749       2.200000            11.000000                 5\n",
      "df_750_inc_z\n",
      "   no_of_processes  avg_wait_time  avg_turnaround_time  context_switches\n",
      "0              749           0.00             2.000000                 1\n",
      "1              749           1.00             4.000000                 2\n",
      "2              749           4.00             7.666667                 4\n",
      "3              749           6.25            10.750000                 4\n",
      "4              749          10.40            16.000000                 5\n",
      "df_750_rand_nz\n",
      "   no_of_processes  avg_wait_time  avg_turnaround_time  context_switches\n",
      "0              749            0.0            15.000000                 1\n",
      "1              749            0.0            42.500000                 2\n",
      "2              749            6.0            40.333333                 3\n",
      "3              749           39.0            86.500000                 5\n",
      "4              749           43.2            84.800000                 5\n",
      "df_750_rand_z\n",
      "   no_of_processes  avg_wait_time  avg_turnaround_time  context_switches\n",
      "0              749            0.0                37.00                 1\n",
      "1              749           18.5                73.00                 2\n",
      "2              749           64.0               107.00                 4\n",
      "3              749           93.0               137.75                 5\n",
      "4              749          110.4               159.20                 5\n"
     ]
    }
   ],
   "source": [
    "for df in dfs:\n",
    "    print(df)\n",
    "    print(dfs.get(df).head())"
   ]
  },
  {
   "cell_type": "code",
   "execution_count": null,
   "metadata": {},
   "outputs": [],
   "source": []
  }
 ],
 "metadata": {
  "kernelspec": {
   "display_name": "Python 3",
   "language": "python",
   "name": "python3"
  },
  "language_info": {
   "codemirror_mode": {
    "name": "ipython",
    "version": 3
   },
   "file_extension": ".py",
   "mimetype": "text/x-python",
   "name": "python",
   "nbconvert_exporter": "python",
   "pygments_lexer": "ipython3",
   "version": "3.7.0"
  }
 },
 "nbformat": 4,
 "nbformat_minor": 2
}
