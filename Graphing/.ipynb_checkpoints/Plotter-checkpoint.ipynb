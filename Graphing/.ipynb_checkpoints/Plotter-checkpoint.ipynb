{
 "cells": [
  {
   "cell_type": "code",
   "execution_count": 149,
   "metadata": {},
   "outputs": [],
   "source": [
    "import pandas as pd\n",
    "import seaborn as sns\n",
    "import os\n",
    "import matplotlib.pyplot as plt"
   ]
  },
  {
   "cell_type": "code",
   "execution_count": 150,
   "metadata": {},
   "outputs": [
    {
     "data": {
      "text/plain": [
       "['500_dec_nz.csv',\n",
       " '500_dec_z.csv',\n",
       " '500_inc_nz.csv',\n",
       " '500_inc_z.csv',\n",
       " '500_rand_nz.csv',\n",
       " '500_rand_z.csv']"
      ]
     },
     "execution_count": 150,
     "metadata": {},
     "output_type": "execute_result"
    }
   ],
   "source": [
    "files = [f for f in os.listdir('.') if os.path.isfile(f)] \n",
    "files.remove('Plotter.ipynb')\n",
    "files"
   ]
  },
  {
   "cell_type": "code",
   "execution_count": 151,
   "metadata": {},
   "outputs": [
    {
     "data": {
      "text/plain": [
       "['df_500_dec_nz',\n",
       " 'df_500_dec_z',\n",
       " 'df_500_inc_nz',\n",
       " 'df_500_inc_z',\n",
       " 'df_500_rand_nz',\n",
       " 'df_500_rand_z']"
      ]
     },
     "execution_count": 151,
     "metadata": {},
     "output_type": "execute_result"
    }
   ],
   "source": [
    "#preparing df names\n",
    "df_names=[]\n",
    "for file in files:\n",
    "    df_names.append('df_'+file.split('.')[0])\n",
    "df_names"
   ]
  },
  {
   "cell_type": "code",
   "execution_count": 152,
   "metadata": {},
   "outputs": [],
   "source": [
    "dfs={}\n",
    "for i in range(len(files)):\n",
    "    dfs[df_names[i]]=pd.read_csv(files[i])\n"
   ]
  },
  {
   "cell_type": "code",
   "execution_count": 153,
   "metadata": {},
   "outputs": [
    {
     "name": "stdout",
     "output_type": "stream",
     "text": [
      "df_500_dec_nz\n",
      "   no_of_processes  avg_wait_time  avg_turnaround_time  context_switches\n",
      "0                0       0.000000          1999.000000                 1\n",
      "1                1    1498.500000          3495.500000                 4\n",
      "2                2    1997.333333          3993.333333                 4\n",
      "3                3    2496.000000          4491.250000                 4\n",
      "4                4    3593.000000          5587.600000                 6\n",
      "df_500_dec_z\n",
      "   no_of_processes  avg_wait_time  avg_turnaround_time  context_switches\n",
      "0                0           0.00          1998.000000                 1\n",
      "1                1        1498.00          3494.000000                 4\n",
      "2                2        1332.00          3326.333333                 3\n",
      "3                3        1996.25          3989.250000                 5\n",
      "4                4        2395.20          4386.800000                 6\n",
      "df_500_inc_nz\n",
      "   no_of_processes  avg_wait_time  avg_turnaround_time  context_switches\n",
      "0                0            0.0             2.000000                 1\n",
      "1                1            0.0             3.000000                 2\n",
      "2                2            0.0             4.333333                 4\n",
      "3                3            0.0             5.500000                 6\n",
      "4                4            1.4             8.000000                 7\n",
      "df_500_inc_z\n",
      "   no_of_processes  avg_wait_time  avg_turnaround_time  context_switches\n",
      "0                0            0.0             2.000000                 1\n",
      "1                1            1.0             4.000000                 2\n",
      "2                2            4.0             8.666667                 3\n",
      "3                3            8.5            14.500000                 4\n",
      "4                4           16.8            23.800000                 5\n",
      "df_500_rand_nz\n",
      "   no_of_processes  avg_wait_time  avg_turnaround_time  context_switches\n",
      "0                0       0.000000            42.000000                 1\n",
      "1                1       0.000000            27.500000                 2\n",
      "2                2      16.333333            46.666667                 3\n",
      "3                3      31.000000            60.250000                 4\n",
      "4                4      60.400000            89.600000                 6\n",
      "df_500_rand_z\n",
      "   no_of_processes  avg_wait_time  avg_turnaround_time  context_switches\n",
      "0                0       0.000000            91.000000                 1\n",
      "1                1      68.000000           158.000000                 4\n",
      "2                2      60.666667           130.333333                 4\n",
      "3                3      57.500000           125.250000                 4\n",
      "4                4      68.000000           127.000000                 5\n"
     ]
    }
   ],
   "source": [
    "for df in dfs:\n",
    "    print(df)\n",
    "    print(dfs.get(df).head())"
   ]
  },
  {
   "cell_type": "code",
   "execution_count": null,
   "metadata": {},
   "outputs": [],
   "source": [
    "m"
   ]
  }
 ],
 "metadata": {
  "kernelspec": {
   "display_name": "Python 3",
   "language": "python",
   "name": "python3"
  },
  "language_info": {
   "codemirror_mode": {
    "name": "ipython",
    "version": 3
   },
   "file_extension": ".py",
   "mimetype": "text/x-python",
   "name": "python",
   "nbconvert_exporter": "python",
   "pygments_lexer": "ipython3",
   "version": "3.7.0"
  }
 },
 "nbformat": 4,
 "nbformat_minor": 2
}
