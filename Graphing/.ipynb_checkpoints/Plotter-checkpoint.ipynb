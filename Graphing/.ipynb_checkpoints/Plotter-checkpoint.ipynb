{
 "cells": [
  {
   "cell_type": "code",
   "execution_count": 121,
   "metadata": {},
   "outputs": [],
   "source": [
    "import pandas as pd\n",
    "import seaborn as sns\n",
    "import os"
   ]
  },
  {
   "cell_type": "code",
   "execution_count": 122,
   "metadata": {},
   "outputs": [
    {
     "data": {
      "text/plain": [
       "['750_dec_nz.csv',\n",
       " '750_dec_z.csv',\n",
       " '750_inc_nz.csv',\n",
       " '750_inc_z.csv',\n",
       " '750_rand_nz.csv',\n",
       " '750_rand_z.csv']"
      ]
     },
     "execution_count": 122,
     "metadata": {},
     "output_type": "execute_result"
    }
   ],
   "source": [
    "files = [f for f in os.listdir('.') if os.path.isfile(f)] \n",
    "files.remove('Plotter.ipynb')\n",
    "files"
   ]
  },
  {
   "cell_type": "code",
   "execution_count": 123,
   "metadata": {},
   "outputs": [
    {
     "data": {
      "text/plain": [
       "['df_750_dec_nz',\n",
       " 'df_750_dec_z',\n",
       " 'df_750_inc_nz',\n",
       " 'df_750_inc_z',\n",
       " 'df_750_rand_nz',\n",
       " 'df_750_rand_z']"
      ]
     },
     "execution_count": 123,
     "metadata": {},
     "output_type": "execute_result"
    }
   ],
   "source": [
    "#preparing df names\n",
    "df_names=[]\n",
    "for file in files:\n",
    "    df_names.append('df_'+file.split('.')[0])\n",
    "df_names"
   ]
  },
  {
   "cell_type": "code",
   "execution_count": 127,
   "metadata": {},
   "outputs": [],
   "source": [
    "dfs={}\n",
    "for i in range(len(files)):\n",
    "    dfs[df_names[i]]=pd.read_csv(files[i])\n"
   ]
  },
  {
   "cell_type": "code",
   "execution_count": 141,
   "metadata": {},
   "outputs": [
    {
     "name": "stdout",
     "output_type": "stream",
     "text": [
      "df_750_dec_nz\n",
      "  process_name  avg_wait_time  avg_turnaround_time  context_switches\n",
      "0           P1       0.000000          2998.000000                 1\n",
      "1           P2    2248.000000          5244.500000                 4\n",
      "2           P3    2745.666667          5740.333333                 5\n",
      "3           P4    2526.500000          5520.000000                 4\n",
      "4           P5    3217.400000          6209.800000                 6\n",
      "df_750_dec_z\n",
      "  process_name  avg_wait_time  avg_turnaround_time  context_switches\n",
      "0           P1       0.000000          3000.000000                 1\n",
      "1           P2    2249.500000          5248.000000                 4\n",
      "2           P3    2000.333333          4997.333333                 3\n",
      "3           P4    2999.250000          5995.000000                 5\n",
      "4           P5    3599.000000          6593.200000                 6\n",
      "df_750_inc_nz\n",
      "  process_name  avg_wait_time  avg_turnaround_time  context_switches\n",
      "0           P1            0.0             2.000000                 1\n",
      "1           P2            0.0             2.500000                 3\n",
      "2           P3            0.0             3.333333                 5\n",
      "3           P4            0.0             4.000000                 7\n",
      "4           P5            1.6             6.800000                 6\n",
      "df_750_inc_z\n",
      "  process_name  avg_wait_time  avg_turnaround_time  context_switches\n",
      "0           P1            0.0                  4.0                 1\n",
      "1           P2            2.0                  8.0                 2\n",
      "2           P3            8.0                 16.0                 3\n",
      "3           P4           17.0                 26.5                 5\n",
      "4           P5           23.6                 34.8                 5\n",
      "df_750_rand_nz\n",
      "  process_name  avg_wait_time  avg_turnaround_time  context_switches\n",
      "0           P1            0.0                 2.00                 1\n",
      "1           P2            6.0                45.00                 5\n",
      "2           P3            4.0                61.00                 3\n",
      "3           P4           13.5                66.75                 4\n",
      "4           P5           54.0               113.40                 7\n",
      "df_750_rand_z\n",
      "  process_name  avg_wait_time  avg_turnaround_time  context_switches\n",
      "0           P1       0.000000                60.00                 1\n",
      "1           P2      30.000000                92.50                 2\n",
      "2           P3      83.333333               146.00                 4\n",
      "3           P4     111.250000               168.25                 6\n",
      "4           P5     108.800000               165.40                 5\n"
     ]
    }
   ],
   "source": [
    "for df in dfs:\n",
    "    print(df)\n",
    "    print(dfs.get(df).head())"
   ]
  },
  {
   "cell_type": "code",
   "execution_count": null,
   "metadata": {},
   "outputs": [],
   "source": []
  }
 ],
 "metadata": {
  "kernelspec": {
   "display_name": "Python 3",
   "language": "python",
   "name": "python3"
  },
  "language_info": {
   "codemirror_mode": {
    "name": "ipython",
    "version": 3
   },
   "file_extension": ".py",
   "mimetype": "text/x-python",
   "name": "python",
   "nbconvert_exporter": "python",
   "pygments_lexer": "ipython3",
   "version": "3.7.0"
  }
 },
 "nbformat": 4,
 "nbformat_minor": 2
}
